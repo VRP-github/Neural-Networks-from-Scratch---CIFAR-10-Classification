{
 "cells": [
  {
   "cell_type": "markdown",
   "metadata": {
    "id": "ZMFloXfhsp8n"
   },
   "source": [
    "<h4>CSE-6363-002: Machine Learning</h4>\n",
    "<h5>HomeWork 2</h5>\n",
    "<h5>Team 6:</h5>\n"
   ]
  },
  {
   "cell_type": "code",
   "execution_count": null,
   "metadata": {
    "id": "XUiS_QPMIZMT"
   },
   "outputs": [],
   "source": [
    "#Imports\n",
    "import torch, torchvision\n",
    "import torchvision.transforms as transforms\n",
    "import numpy as np\n",
    "import matplotlib.pyplot as plt\n",
    "import torch.nn as nn\n",
    "import torch.optim as optim\n",
    "import torch.nn.functional as F\n",
    "import matplotlib.pyplot as plt\n",
    "\n",
    "from sklearn.model_selection import train_test_split\n"
   ]
  },
  {
   "cell_type": "code",
   "execution_count": null,
   "metadata": {
    "colab": {
     "base_uri": "https://localhost:8080/"
    },
    "id": "xuPGtqbXw1oC",
    "outputId": "0c74bf1f-8355-4add-a099-d622a0b26369"
   },
   "outputs": [
    {
     "name": "stdout",
     "output_type": "stream",
     "text": [
      "Downloading https://www.cs.toronto.edu/~kriz/cifar-10-python.tar.gz to ./data/cifar-10-python.tar.gz\n"
     ]
    },
    {
     "name": "stderr",
     "output_type": "stream",
     "text": [
      "100%|██████████| 170498071/170498071 [00:13<00:00, 13086945.88it/s]\n"
     ]
    },
    {
     "name": "stdout",
     "output_type": "stream",
     "text": [
      "Extracting ./data/cifar-10-python.tar.gz to ./data\n",
      "Files already downloaded and verified\n"
     ]
    }
   ],
   "source": [
    "#Loading the CIFAR10 Dataset\n",
    "transform = torchvision.transforms.Compose(\n",
    "    [torchvision.transforms.ToTensor(),\n",
    "     torchvision.transforms.Normalize((0.5, 0.5, 0.5), (0.5, 0.5,0.5))]\n",
    ")\n",
    "\n",
    "batch_size = 4\n",
    "\n",
    "trainset = torchvision.datasets.CIFAR10(root='./data', train=True, download=True,\n",
    "                                        transform=transform)\n",
    "trainloader = torch.utils.data.DataLoader(trainset, batch_size=batch_size, shuffle=True,\n",
    "                                          num_workers=2)\n",
    "\n",
    "testset = torchvision.datasets.CIFAR10(root='./data', train=False, download=True,\n",
    "                                        transform=transform)\n",
    "\n",
    "testloader = torch.utils.data.DataLoader(testset, batch_size=batch_size, shuffle=False,\n",
    "                                          num_workers=2)\n",
    "\n",
    "classes = ('plane', 'car', 'bird', 'cat',\n",
    "           'deer', 'dog', 'frog', 'horse', 'ship', 'truck')\n",
    "\n"
   ]
  },
  {
   "cell_type": "code",
   "execution_count": null,
   "metadata": {
    "colab": {
     "base_uri": "https://localhost:8080/",
     "height": 211
    },
    "id": "mt1LOQ9PyI_6",
    "outputId": "709d5808-bb9a-4993-e22a-572b65d512e1"
   },
   "outputs": [
    {
     "data": {
      "image/png": "[encoded data removed]",
      "text/plain": [
       "<Figure size 640x480 with 1 Axes>"
      ]
     },
     "metadata": {},
     "output_type": "display_data"
    },
    {
     "name": "stdout",
     "output_type": "stream",
     "text": [
      "cat   bird  car   horse\n"
     ]
    }
   ],
   "source": [
    "def imshow(img):\n",
    "  img = img / 2 + 0.5\n",
    "  npimg = img.numpy()\n",
    "  plt.imshow(np.transpose(npimg,(1,2,0)))\n",
    "  plt.show()\n",
    "\n",
    "\n",
    "dataiter = iter(trainloader)\n",
    "images, labels = next(dataiter)\n",
    "\n",
    "imshow(torchvision.utils.make_grid(images))\n",
    "print(' '.join(f'{classes[labels[j]]:5s}' for j in range(batch_size)))"
   ]
  },
  {
   "cell_type": "code",
   "execution_count": null,
   "metadata": {
    "id": "3Z8Q-9B_8aOx"
   },
   "outputs": [],
   "source": [
    "def prepare_data(trainset, val_split=0.1):\n",
    "    # Convert CIFAR-10 images to numpy arrays and flatten them\n",
    "    X = np.array([np.ravel(trainset[i][0].numpy()) for i in range(len(trainset))])\n",
    "    y = np.array([trainset[i][1] for i in range(len(trainset))])\n",
    "\n",
    "    # Split dataset into training and validation sets (90% train, 10% validation)\n",
    "    split_size = int((1 - val_split) * len(trainset))\n",
    "    indices = np.random.permutation(len(trainset))\n",
    "\n",
    "    train_indices = indices[:split_size]\n",
    "    val_indices = indices[split_size:]\n",
    "\n",
    "    X_train, X_val = X[train_indices], X[val_indices]\n",
    "    y_train, y_val = y[train_indices], y[val_indices]\n",
    "\n",
    "    return X_train.T, X_val.T, y_train, y_val  # Transpose to get the correct shape for input\n",
    "\n",
    "X_train, X_val, y_train, y_val = prepare_data(trainset)\n"
   ]
  },
  {
   "cell_type": "code",
   "execution_count": null,
   "metadata": {
    "id": "svLvxPW73jHj"
   },
   "outputs": [],
   "source": [
    "\n",
    "# Function to load and preprocess CIFAR-10 data\n",
    "def load_and_preprocess_cifar10(trainset, testset):\n",
    "    # Convert to numpy arrays\n",
    "    X_train = np.array([img.numpy().flatten() for img, _ in trainset])\n",
    "    y_train = np.array([label for _, label in trainset])\n",
    "    X_test = np.array([img.numpy().flatten() for img, _ in testset])\n",
    "    y_test = np.array([label for _, label in testset])\n",
    "\n",
    "    # Split training data into train and validation sets\n",
    "    X_train, X_val, y_train, y_val = train_test_split(X_train, y_train, test_size=0.1, random_state=42)\n",
    "\n",
    "    # Transpose the data to match the expected shape (features, samples)\n",
    "    X_train = X_train.T\n",
    "    X_val = X_val.T\n",
    "    X_test = X_test.T\n",
    "\n",
    "    return X_train, y_train, X_val, y_val, X_test, y_test\n",
    "\n",
    "# Function to calculate accuracy (outside of the class)\n",
    "def calculate_accuracy(model, X_test, y_test):\n",
    "    predictions = model.predict(X_test)\n",
    "    accuracy = np.mean(predictions == y_test) * 100\n",
    "    return accuracy"
   ]
  },
  {
   "cell_type": "code",
   "execution_count": null,
   "metadata": {
    "colab": {
     "base_uri": "https://localhost:8080/"
    },
    "id": "JHWX5kBVjxMR",
    "outputId": "6fd7787b-d551-43d8-962c-23e7fd60043d"
   },
   "outputs": [
    {
     "name": "stdout",
     "output_type": "stream",
     "text": [
      "Printing the 5 entries of the trainset_numpy array: [[ 0.99215686  0.12941182 -1.         ...  0.24705887  1.\n",
      "  -0.00392157]\n",
      " [ 0.99215686  0.1686275  -1.         ...  0.26274514  0.99215686\n",
      "  -0.01176471]\n",
      " [ 0.96862745  0.26274514 -1.         ...  0.27843142  1.\n",
      "   0.00392163]\n",
      " [ 0.94509804  0.30980396 -1.         ...  0.2941177   1.\n",
      "   0.02745104]\n",
      " [ 0.92941177  0.33333337 -1.         ...  0.32549024  0.99215686\n",
      "   0.03529418]]\n",
      "Display the size of the trainset_numpy(3072, 45000)\n"
     ]
    }
   ],
   "source": [
    "print(f\"Printing the 5 entries of the trainset_numpy array: {X_train[:5]}\")\n",
    "print(f\"Display the size of the trainset_numpy{X_train.shape}\")"
   ]
  },
  {
   "cell_type": "code",
   "execution_count": null,
   "metadata": {
    "id": "9sMS0nFw0fBZ"
   },
   "outputs": [],
   "source": [
    "class NeuralNetwork:\n",
    "  def __init__(self, layer_dimensions):\n",
    "    self.layer_dimensions = layer_dimensions\n",
    "    np.random.seed(1)\n",
    "    self.parameters = {}\n",
    "    layer_dimensions_len = len(layer_dimensions)\n",
    "    for i in range(1, layer_dimensions_len):\n",
    "        self.parameters[\"W\" + str(i)] = np.random.randn(self.layer_dimensions[i], self.layer_dimensions[i - 1]) * 0.01\n",
    "        self.parameters[\"b\" + str(i)] = np.random.randn(self.layer_dimensions[i], 1)\n",
    "\n",
    "  def affineForward(self, A, W, b):\n",
    "      Z = np.dot(W, A) + b\n",
    "      cache = (A, W, b)\n",
    "      return Z, cache\n",
    "\n",
    "  def activationForward(self, A):\n",
    "      Z = np.maximum(0, A)\n",
    "      cache = A\n",
    "      return Z\n",
    "\n",
    "  def forwardPropagation(self, X):\n",
    "      caches = []\n",
    "      A = X\n",
    "      L = len(self.parameters) // 2\n",
    "\n",
    "      for i in range(1, L + 1):\n",
    "        A_prev = A\n",
    "        Z, affine_cache = self.affineForward(A_prev, self.parameters[\"W\" + str(i)], self.parameters[\"b\" + str(i)])\n",
    "        A = self.activationForward(Z)\n",
    "\n",
    "        caches.append((affine_cache, Z))\n",
    "\n",
    "      return A, caches\n",
    "\n",
    "  def costFunction(self, AL, y):\n",
    "      m = y.shape[0]\n",
    "      exp_values = np.exp(AL - np.max(AL, axis=0, keepdims=True))\n",
    "      probs = exp_values / np.sum(exp_values, axis=0, keepdims=True)\n",
    "      log_probs = -np.log(probs[y, np.arange(m)])\n",
    "      cost = np.sum(log_probs) / m\n",
    "      return cost, probs\n",
    "\n",
    "  def affineBackward(self, dA_prev, cache):\n",
    "      A_prev, W, b = cache\n",
    "      m = A_prev.shape[1]\n",
    "      dW = np.dot(dA_prev, A_prev.T) / m\n",
    "      db = np.sum(dA_prev, axis=1, keepdims=True) / m\n",
    "      dA_prev = np.dot(W.T, dA_prev)\n",
    "      return dA_prev, dW, db\n",
    "\n",
    "  def activationBackward(self, dA, cache):\n",
    "      Z = cache\n",
    "      dZ = np.array(dA, copy=True)\n",
    "      dZ[Z <= 0] = 0\n",
    "      return dZ\n",
    "\n",
    "  def backPropagation(self, dAL, Y, cache):\n",
    "    gradients = {}\n",
    "    cache_len = len(cache)\n",
    "    m = dAL.shape[1]\n",
    "\n",
    "    Y_one_hot = np.zeros((dAL.shape[0], m))\n",
    "    Y_one_hot[Y, np.arange(m)] = 1\n",
    "\n",
    "    dAL = dAL - Y_one_hot\n",
    "\n",
    "    current_cache, ZL = cache[cache_len - 1]\n",
    "    gradients['dA' + str(cache_len - 1)], gradients['dW' + str(cache_len)], gradients['db' + str(cache_len)] = self.affineBackward(dAL, current_cache)\n",
    "\n",
    "    for l in reversed(range(cache_len-1)):\n",
    "          current_cache, activation_cache = cache[l]\n",
    "          dA_prev_temp = gradients['dA' + str(l+1)]\n",
    "          dZ_temp = self.activationBackward(dA_prev_temp, activation_cache)\n",
    "          gradients['dA' + str(l)], gradients['dW' + str(l+1)], gradients['db' + str(l+1)] = self.affineBackward(dZ_temp, current_cache)\n",
    "\n",
    "    return gradients\n",
    "\n",
    "  def updateParameters(self, gradients, alpha):\n",
    "      L = len(self.parameters) // 2\n",
    "      for l in range(1, L + 1):\n",
    "          self.parameters['W' + str(l)] -= alpha * gradients['dW' + str(l)]\n",
    "          self.parameters['b' + str(l)] -= alpha * gradients['db' + str(l)]\n",
    "\n",
    "  def evaluate(self, AL, y):\n",
    "    predictions = np.argmax(AL, axis=0)\n",
    "    accuracy = np.mean( predictions == y) * 100\n",
    "    return accuracy\n",
    "\n",
    "\n",
    "  def train(self, X_train, y_train, X_val, y_val, iters, alpha, batch_size):\n",
    "    m = X_train.shape[1]\n",
    "    costs = []\n",
    "    train_accuracies = []\n",
    "    val_accuracies = []\n",
    "\n",
    "    for i in range(iters):\n",
    "        total_cost = 0\n",
    "        num_batches = 0\n",
    "        for j in range(0, m, batch_size):\n",
    "            X_batch = X_train[:, j:j + batch_size]\n",
    "            y_batch = y_train[j:j + batch_size].astype(int)\n",
    "\n",
    "            AL, caches = self.forwardPropagation(X_batch)\n",
    "\n",
    "            cost, probs = self.costFunction(AL, y_batch)\n",
    "            total_cost = total_cost + cost\n",
    "            num_batches = num_batches + 1\n",
    "\n",
    "            gradients = self.backPropagation(probs, y_batch, caches)\n",
    "\n",
    "            self.updateParameters(gradients, alpha)\n",
    "\n",
    "            average_cost = total_cost / num_batches\n",
    "\n",
    "        if i % 10 == 0:\n",
    "            AL_train, _ = self.forwardPropagation(X_train)\n",
    "            train_accuracy = self.compute_accuracy(AL_train, y_train)\n",
    "\n",
    "            AL_val, _ = self.forwardPropagation(X_val)\n",
    "            val_accuracy = self.compute_accuracy(AL_val, y_val)\n",
    "\n",
    "            print(f\"Iteration {i}: Average Cost = {average_cost:.4f}, Training Accuracy = {train_accuracy:.2f}%, Validation Accuracy = {val_accuracy:.2f}%\")\n",
    "\n",
    "            costs.append(average_cost)\n",
    "            train_accuracies.append(train_accuracy)\n",
    "            val_accuracies.append(val_accuracy)\n",
    "    return costs, train_accuracies, val_accuracies\n",
    "\n",
    "  def compute_accuracy(self, AL, y):\n",
    "    predictions = np.argmax(AL, axis=0)\n",
    "    accuracy = np.mean(predictions == y) * 100\n",
    "    return accuracy\n",
    "\n",
    "  def predict(self, X_new):\n",
    "    AL, _ = self.forwardPropagation(X_new)\n",
    "    predictions = np.argmax(AL, axis=0)\n",
    "    return predictions\n"
   ]
  },
  {
   "cell_type": "code",
   "execution_count": null,
   "metadata": {
    "id": "njS_6Qc73pWr"
   },
   "outputs": [],
   "source": [
    "# Load and preprocess CIFAR-10 data\n",
    "X_train_n, y_train_n, X_val_n, y_val_n, X_test_n, y_test_n = load_and_preprocess_cifar10(trainset, testset)\n",
    "\n",
    "# Initialize the neural network\n",
    "input_size = X_train_n.shape[0]\n",
    "hidden_size1 = 256\n",
    "hidden_size2 = 128\n",
    "hidden_size3 = 128\n",
    "output_size = 10\n",
    "layer_dimensions = [input_size, hidden_size1, hidden_size2, hidden_size3, output_size]\n",
    "nn_model = NeuralNetwork(layer_dimensions)\n",
    "\n"
   ]
  },
  {
   "cell_type": "code",
   "execution_count": null,
   "metadata": {
    "colab": {
     "base_uri": "https://localhost:8080/"
    },
    "id": "jCK9wEY5jgLj",
    "outputId": "7786be67-6110-43ee-ba6e-fd42a93ef69c"
   },
   "outputs": [
    {
     "name": "stdout",
     "output_type": "stream",
     "text": [
      "Iteration 0: Average Cost = 2.3214, Training Accuracy = 9.96%, Validation Accuracy = 10.40%\n",
      "Iteration 10: Average Cost = 2.3006, Training Accuracy = 12.37%, Validation Accuracy = 12.36%\n",
      "Iteration 20: Average Cost = 2.0626, Training Accuracy = 20.25%, Validation Accuracy = 20.08%\n",
      "Iteration 30: Average Cost = 2.0179, Training Accuracy = 21.88%, Validation Accuracy = 21.10%\n",
      "Iteration 40: Average Cost = 1.9757, Training Accuracy = 24.42%, Validation Accuracy = 23.80%\n",
      "Iteration 50: Average Cost = 1.8173, Training Accuracy = 32.60%, Validation Accuracy = 31.92%\n",
      "Iteration 60: Average Cost = 1.7271, Training Accuracy = 36.40%, Validation Accuracy = 35.22%\n",
      "Iteration 70: Average Cost = 1.6326, Training Accuracy = 40.50%, Validation Accuracy = 39.48%\n",
      "Iteration 80: Average Cost = 1.5376, Training Accuracy = 44.01%, Validation Accuracy = 42.72%\n",
      "Iteration 90: Average Cost = 1.4394, Training Accuracy = 47.63%, Validation Accuracy = 45.52%\n",
      "Iteration 100: Average Cost = 1.3539, Training Accuracy = 50.74%, Validation Accuracy = 47.06%\n",
      "Iteration 110: Average Cost = 1.2739, Training Accuracy = 53.44%, Validation Accuracy = 48.22%\n",
      "Iteration 120: Average Cost = 1.2075, Training Accuracy = 55.71%, Validation Accuracy = 48.18%\n",
      "Iteration 130: Average Cost = 1.1484, Training Accuracy = 57.74%, Validation Accuracy = 48.38%\n",
      "Iteration 140: Average Cost = 1.1088, Training Accuracy = 60.14%, Validation Accuracy = 48.92%\n",
      "Iteration 150: Average Cost = 1.0413, Training Accuracy = 61.53%, Validation Accuracy = 48.82%\n",
      "Iteration 160: Average Cost = 0.9966, Training Accuracy = 63.40%, Validation Accuracy = 48.74%\n",
      "Iteration 170: Average Cost = 0.9507, Training Accuracy = 66.28%, Validation Accuracy = 49.34%\n",
      "Iteration 180: Average Cost = 0.8996, Training Accuracy = 67.68%, Validation Accuracy = 48.72%\n",
      "Iteration 190: Average Cost = 0.8305, Training Accuracy = 69.32%, Validation Accuracy = 49.32%\n",
      "Iteration 200: Average Cost = 0.7999, Training Accuracy = 70.37%, Validation Accuracy = 48.98%\n",
      "Iteration 210: Average Cost = 0.7479, Training Accuracy = 69.99%, Validation Accuracy = 47.68%\n",
      "Iteration 220: Average Cost = 0.7409, Training Accuracy = 72.64%, Validation Accuracy = 48.58%\n",
      "Iteration 230: Average Cost = 0.6535, Training Accuracy = 74.94%, Validation Accuracy = 48.86%\n",
      "Iteration 240: Average Cost = 0.6332, Training Accuracy = 78.13%, Validation Accuracy = 50.18%\n",
      "Iteration 250: Average Cost = 0.5799, Training Accuracy = 79.46%, Validation Accuracy = 50.00%\n",
      "Iteration 260: Average Cost = 0.5741, Training Accuracy = 80.36%, Validation Accuracy = 50.40%\n",
      "Iteration 270: Average Cost = 0.5347, Training Accuracy = 81.36%, Validation Accuracy = 50.14%\n",
      "Iteration 280: Average Cost = 0.5377, Training Accuracy = 83.98%, Validation Accuracy = 50.62%\n",
      "Iteration 290: Average Cost = 0.5080, Training Accuracy = 85.54%, Validation Accuracy = 50.02%\n"
     ]
    }
   ],
   "source": [
    "costs, train_accuracies, val_accuracies = nn_model.train(X_train_n, y_train_n, X_val_n, y_val_n, iters=300, alpha=0.01, batch_size=256)"
   ]
  },
  {
   "cell_type": "markdown",
   "metadata": {
    "id": "1CIX85MqRste"
   },
   "source": [
    "In the above iterations logs, the Average cost is nothing but the Loss. And Also we can see that as the Average cost is decreasing then the validation accuracy is increasing.\n",
    "\n",
    "Our Validation and Testing Accuracy is also greater than random guessing. As there are 10 classesfor classification the random gussing will be 10%. (If we take the example of the binary classifier the random gussessing will be 50%)."
   ]
  },
  {
   "cell_type": "code",
   "execution_count": null,
   "metadata": {
    "colab": {
     "base_uri": "https://localhost:8080/"
    },
    "id": "BQcYJRRn5BDK",
    "outputId": "34bb2e1e-9e92-41e6-e91e-ff5596186cb5"
   },
   "outputs": [
    {
     "name": "stdout",
     "output_type": "stream",
     "text": [
      "Val Accuracy: 48.88%\n"
     ]
    }
   ],
   "source": [
    "# Calculate and print val accuracy\n",
    "val_y_pred = nn_model.predict(X_val_n)\n",
    "val_accuracy = np.mean(val_y_pred == y_val_n) * 100\n",
    "\n",
    "# val_accuracy = compute_accuracy(, X_val_n, y_val_n)\n",
    "print(f\"Val Accuracy: {val_accuracy:.2f}%\")"
   ]
  },
  {
   "cell_type": "code",
   "execution_count": null,
   "metadata": {
    "colab": {
     "base_uri": "https://localhost:8080/"
    },
    "id": "Buc3qewb30yi",
    "outputId": "6f71b62c-cd2d-44d7-eaba-c981083cecea"
   },
   "outputs": [
    {
     "name": "stdout",
     "output_type": "stream",
     "text": [
      "Test Accuracy: 49.87%\n"
     ]
    }
   ],
   "source": [
    "# Calculate and print test accuracy\n",
    "test_y_pred = nn_model.predict(X_test_n)\n",
    "test_accuracy = np.mean(test_y_pred == y_test_n) * 100\n",
    "\n",
    "\n",
    "print(f\"Test Accuracy: {test_accuracy:.2f}%\")"
   ]
  },
  {
   "cell_type": "code",
   "execution_count": null,
   "metadata": {
    "id": "E1_BChlLFacR"
   },
   "outputs": [],
   "source": [
    "def plot_evaluation(iterations, costs, val_accuracies):\n",
    "    fig, ax1 = plt.subplots(figsize=(12, 6))\n",
    "\n",
    "    # Plotting the average cost\n",
    "    ax1.set_xlabel('Iterations')\n",
    "    ax1.set_ylabel('Average Cost', color='blue')\n",
    "    ax1.plot(iterations, costs, label='Average Cost', color='blue')\n",
    "    ax1.tick_params(axis='y', labelcolor='blue')\n",
    "\n",
    "    # Creating a second y-axis for validation accuracy\n",
    "    ax2 = ax1.twinx()\n",
    "    ax2.set_ylabel('Validation Accuracy (%)', color='green')\n",
    "    ax2.plot(iterations, val_accuracies, label='Validation Accuracy', color='green')\n",
    "    ax2.tick_params(axis='y', labelcolor='green')\n",
    "\n",
    "    # Title and legend\n",
    "    plt.title('Average Cost and Validation Accuracy vs Iterations')\n",
    "    fig.tight_layout()  # Adjust layout to prevent clipping of ylabel\n",
    "    plt.show()\n"
   ]
  },
  {
   "cell_type": "code",
   "execution_count": null,
   "metadata": {
    "colab": {
     "base_uri": "https://localhost:8080/",
     "height": 591
    },
    "id": "nFVsaDfDC0gA",
    "outputId": "307abbc3-29d9-45ab-dad7-f5068841c01d"
   },
   "outputs": [
    {
     "data": {
      "image/png": "[encoded data removed]",
      "text/plain": [
       "<Figure size 1200x600 with 2 Axes>"
      ]
     },
     "metadata": {},
     "output_type": "display_data"
    }
   ],
   "source": [
    "# Create the iterations array\n",
    "iterations = list(range(0, len(train_accuracies) * 10, 10))\n",
    "plot_evaluation(iterations, costs, val_accuracies)"
   ]
  },
  {
   "cell_type": "code",
   "execution_count": null,
   "metadata": {
    "id": "3g1m9Fcs20ID"
   },
   "outputs": [],
   "source": [
    "def predict_image_labels_ann(features, model):\n",
    "  pred = []\n",
    "  images = []\n",
    "  for i in range(features.shape[1]):\n",
    "    image = features[:, i]\n",
    "    outputs = model.predict(image)\n",
    "    predicted = np.argmax(outputs, axis=0) # np.max(outputs, 1)\n",
    "    pred.append(predicted)\n",
    "    images.append(image)\n",
    "\n",
    "  return images, pred"
   ]
  },
  {
   "cell_type": "code",
   "execution_count": null,
   "metadata": {
    "id": "3xDiwojJFIM1"
   },
   "outputs": [],
   "source": [
    "def display_images_with_labels(images, labels, classes):\n",
    "\n",
    "  num_images = images.shape[1]\n",
    "  rows = (num_images + 4) // 5\n",
    "  fig, axes = plt.subplots(rows, 5, figsize=(15, 3 * rows))\n",
    "\n",
    "  for i in range(num_images):\n",
    "    image = images[:, i].reshape(32, 32, 3)\n",
    "    row = i // 5\n",
    "    col = i % 5\n",
    "    axes[row, col].imshow(image)\n",
    "    axes[row, col].set_title(f\"Predicted: {classes[labels[i][0]]}\")\n",
    "    axes[row, col].axis('off')\n",
    "\n",
    "  for i in range(num_images, rows * 5):\n",
    "    row = i // 5\n",
    "    col = i % 5\n",
    "    fig.delaxes(axes[row, col])\n",
    "\n",
    "  plt.tight_layout()\n",
    "  plt.show()\n",
    "\n",
    "\n",
    "num_images_to_display = 6\n",
    "images_to_display = X_test_n[:, :num_images_to_display]\n",
    "\n",
    "predicted_labels = nn_model.predict(images_to_display)\n",
    "\n",
    "display_images_with_labels(images_to_display, [[label] for label in predicted_labels], classes)\n"
   ]
  },
  {
   "cell_type": "code",
   "execution_count": null,
   "metadata": {
    "id": "BhRe-VEr3XDz"
   },
   "outputs": [],
   "source": [
    "image = 5\n",
    "def display_predictions_ann(images, predicted, model, image):\n",
    "  plt.figure(figsize=(12,8))\n",
    "\n",
    "  for i in range(min(image, len(images))):\n",
    "    plt.subplot(4,i + 1)\n",
    "    image_temp = images[i] # np.transpose(image,(1,2,0))\n",
    "    # imshow_ann(image_temp)\n",
    "    imshow_ann(torchvision.utils.make_grid(image_temp))\n",
    "    plt.title(f\"{model} Predicted: {classes[predicted[i].item()]}\")\n",
    "    plt.axis('off')\n",
    "  plt.tight_layout()\n",
    "  plt.axis()"
   ]
  },
  {
   "cell_type": "code",
   "execution_count": null,
   "metadata": {
    "id": "q1U4Mr28CQOv"
   },
   "outputs": [],
   "source": [
    "images, pred = predict_image_labels_ann(X_test_n[:, :1], nn_model)"
   ]
  },
  {
   "cell_type": "code",
   "execution_count": null,
   "metadata": {
    "colab": {
     "base_uri": "https://localhost:8080/"
    },
    "id": "pRIgH65LEAdL",
    "outputId": "3b26501d-dc2c-4eea-c5fa-1e54f2898a94"
   },
   "outputs": [
    {
     "data": {
      "text/plain": [
       "(3072,)"
      ]
     },
     "execution_count": 116,
     "metadata": {},
     "output_type": "execute_result"
    }
   ],
   "source": [
    "images[0].shape"
   ]
  },
  {
   "cell_type": "code",
   "execution_count": null,
   "metadata": {
    "colab": {
     "base_uri": "https://localhost:8080/",
     "height": 372
    },
    "id": "JrUwe5lyGKQt",
    "outputId": "fbdcbd20-da13-4796-a72c-682620b49d03"
   },
   "outputs": [
    {
     "name": "stderr",
     "output_type": "stream",
     "text": [
      "WARNING:matplotlib.image:Clipping input data to the valid range for imshow with RGB data ([0..1] for floats or [0..255] for integers).\n",
      "WARNING:matplotlib.image:Clipping input data to the valid range for imshow with RGB data ([0..1] for floats or [0..255] for integers).\n",
      "WARNING:matplotlib.image:Clipping input data to the valid range for imshow with RGB data ([0..1] for floats or [0..255] for integers).\n",
      "WARNING:matplotlib.image:Clipping input data to the valid range for imshow with RGB data ([0..1] for floats or [0..255] for integers).\n",
      "WARNING:matplotlib.image:Clipping input data to the valid range for imshow with RGB data ([0..1] for floats or [0..255] for integers).\n"
     ]
    },
    {
     "data": {
      "image/png": "[encoded data removed]",
      "text/plain": [
       "<Figure size 1500x500 with 5 Axes>"
      ]
     },
     "metadata": {},
     "output_type": "display_data"
    }
   ],
   "source": [
    "# Reshape the images and select the first 5\n",
    "images_to_display = X_train_n[:, :6].T.reshape(-1, 32, 32, 3)\n",
    "\n",
    "# Make predictions for each image\n",
    "predictions = nn_model.predict(X_train_n[:, :6])\n",
    "\n",
    "# Create a grid of subplots\n",
    "fig, axes = plt.subplots(1, 5, figsize=(15, 5))\n",
    "\n",
    "for i in range(5):\n",
    "  # Display the image\n",
    "  axes[i].imshow((images_to_display[i][:, :]))\n",
    "  axes[i].set_title(f\"Predicted: {classes[predictions[i]]}\")\n",
    "  axes[i].axis('off')\n",
    "\n",
    "plt.tight_layout()\n",
    "plt.show()"
   ]
  },
  {
   "cell_type": "markdown",
   "metadata": {
    "id": "PClXHRru1Fnh"
   },
   "source": [
    "2: Implement CNN using PyTorch"
   ]
  },
  {
   "cell_type": "code",
   "execution_count": null,
   "metadata": {
    "colab": {
     "base_uri": "https://localhost:8080/"
    },
    "id": "aqzMhBOf5CkH",
    "outputId": "654ce466-d981-4edd-83db-339824a55119"
   },
   "outputs": [
    {
     "name": "stdout",
     "output_type": "stream",
     "text": [
      "Using device: cuda\n"
     ]
    }
   ],
   "source": [
    " #2 CNN using Pytorch\n",
    "\n",
    " device = torch.device('cuda' if torch.cuda.is_available() else 'cpu')\n",
    " print(f\"Using device: {device}\")"
   ]
  },
  {
   "cell_type": "code",
   "execution_count": null,
   "metadata": {
    "colab": {
     "base_uri": "https://localhost:8080/"
    },
    "id": "SLAz_VcX86MX",
    "outputId": "61db3325-1b3e-426c-e862-eef34f5a4f3d"
   },
   "outputs": [
    {
     "name": "stdout",
     "output_type": "stream",
     "text": [
      "Files already downloaded and verified\n",
      "Files already downloaded and verified\n"
     ]
    }
   ],
   "source": [
    "#Loading the CIFAR10 Dataset for the pytorch implementation of CNN\n",
    "transform = torchvision.transforms.Compose(\n",
    "    [torchvision.transforms.ToTensor(),\n",
    "     torchvision.transforms.Normalize((0.5, 0.5, 0.5), (0.5, 0.5,0.5))]\n",
    ")\n",
    "\n",
    "batch_size = 16\n",
    "\n",
    "whole_trainset = torchvision.datasets.CIFAR10(root='./data', train=True, download=True,\n",
    "                                        transform=transform)\n",
    "#Spliting the traning dataset into 90% (training data) and 10% (Validation Data)\n",
    "trainset, valset = torch.utils.data.random_split(whole_trainset, [45000, 5000])\n",
    "\n",
    "trainloader = torch.utils.data.DataLoader(trainset, batch_size=batch_size,shuffle=True, num_workers=2)\n",
    "valloader = torch.utils.data.DataLoader(valset, batch_size=batch_size,shuffle=True, num_workers=2 )\n",
    "\n",
    "testset = torchvision.datasets.CIFAR10(root='./data', train=False, download=True,\n",
    "                                        transform=transform)\n",
    "\n",
    "testloader = torch.utils.data.DataLoader(testset, batch_size=64, shuffle=False,\n",
    "                                          num_workers=2)\n",
    "\n",
    "classes = ('plane', 'car', 'bird', 'cat',\n",
    "           'deer', 'dog', 'frog', 'horse', 'ship', 'truck')\n",
    "\n"
   ]
  },
  {
   "cell_type": "code",
   "execution_count": null,
   "metadata": {
    "id": "PrdyjaJSJ9vG"
   },
   "outputs": [],
   "source": [
    "# Initializing the First CNN Model\n",
    "\n",
    "class Cnn_Model_1(nn.Module):\n",
    "  def __init__(self):\n",
    "    super(Cnn_Model_1, self).__init__()\n",
    "\n",
    "    # 1st Convolutional Layer\n",
    "    self.Con_1 = nn.Conv2d(3,32,5)\n",
    "    self.b_norm_1 = nn.BatchNorm2d(32)\n",
    "    self.pool = nn.MaxPool2d(2,2)\n",
    "\n",
    "    # 2nd Convolutional Layer\n",
    "    self.Con_2 = nn.Conv2d(32,64,5)\n",
    "    self.b_norm_2 = nn.BatchNorm2d(64)\n",
    "\n",
    "    # 3rd Convolutional Layer\n",
    "    self.Con_3 = nn.Conv2d(64,128,3)\n",
    "    self.b_norm_3 = nn.BatchNorm2d(128)\n",
    "\n",
    "    # Calculating o/p size for the last layer\n",
    "    self.fc1 = nn.Linear(128 * 3 *3, 512)\n",
    "    self.fc2 = nn.Linear(512, 256)\n",
    "    self.fc3 = nn.Linear(256, 10)\n",
    "\n",
    "    #Defining the Dropout layer\n",
    "    self.do_layer = nn.Dropout(0.5)\n",
    "\n",
    "\n",
    "  def forward(self, x):\n",
    "    x = self.Con_1(x)\n",
    "    x = self.b_norm_1(x)\n",
    "    x = F.relu(x)\n",
    "    x = self.pool(x)\n",
    "\n",
    "    x = self.Con_2(x)\n",
    "    x = self.b_norm_2(x)\n",
    "    x = F.relu(x)\n",
    "    x = self.pool(x)\n",
    "\n",
    "    x = self.Con_3(x)\n",
    "    x = self.b_norm_3(x)\n",
    "    x = F.relu(x)\n",
    "\n",
    "    x = x.view(-1, 128 * 3 * 3)\n",
    "    x = F.relu(self.fc1(x))\n",
    "    x = self.do_layer(x)\n",
    "    x = F.relu(self.fc2(x))\n",
    "    x = self.fc3(x)\n",
    "    return x\n"
   ]
  },
  {
   "cell_type": "code",
   "execution_count": null,
   "metadata": {
    "id": "lXQQ3iJ0fkOw"
   },
   "outputs": [],
   "source": [
    "# Initializing the Second CNN Model\n",
    "\n",
    "class Cnn_Model_2(nn.Module):\n",
    "  def __init__(self):\n",
    "    super(Cnn_Model_2, self).__init__()\n",
    "\n",
    "    self.conv_layer = nn.Sequential(\n",
    "        #1\n",
    "        nn.Conv2d(3,32,5,padding=2),\n",
    "        nn.BatchNorm2d(32),\n",
    "        nn.ReLU(inplace=True),\n",
    "        nn.MaxPool2d(2,2),\n",
    "\n",
    "        #2\n",
    "        nn.Conv2d(32,64,5,padding=2),\n",
    "        nn.BatchNorm2d(64),\n",
    "        nn.ReLU(inplace=True),\n",
    "        nn.MaxPool2d(2,2),\n",
    "\n",
    "        #3\n",
    "        nn.Conv2d(64,128,3,padding=1),\n",
    "        nn.BatchNorm2d(128),\n",
    "        nn.ReLU(inplace=True),\n",
    "        nn.MaxPool2d(2,2),\n",
    "\n",
    "        #4\n",
    "        nn.Conv2d(128,256,3,padding=1),\n",
    "        nn.BatchNorm2d(256),\n",
    "        nn.ReLU(inplace=True),\n",
    "    )\n",
    "\n",
    "    # Initilize the weights to calculate the oput size of the layer\n",
    "    self.to_linear = None\n",
    "    self._initialize_weights()\n",
    "\n",
    "    self.fc_layer = nn.Sequential(\n",
    "        nn.Dropout(p=0.5),\n",
    "        nn.Linear(self.to_linear, 512),\n",
    "        nn.ReLU(inplace = True),\n",
    "        nn.Linear(512, 256),\n",
    "        nn.ReLU(inplace = True),\n",
    "        nn.Dropout(p=0.5),\n",
    "        nn.Linear(256, 10),\n",
    "    )\n",
    "\n",
    "  def _initialize_weights(self):\n",
    "    with torch.no_grad():\n",
    "      x = torch.zeros(1, 3, 32, 32)\n",
    "      self.to_linear = self.conv_layer(x).numel()\n",
    "\n",
    "\n",
    "  def forward(self, x):\n",
    "    x = self.conv_layer(x)\n",
    "    x = x.view(x.size(0), -1)\n",
    "    x = self.fc_layer(x)\n",
    "    return x\n"
   ]
  },
  {
   "cell_type": "code",
   "execution_count": null,
   "metadata": {
    "id": "5i8AUIYFiDbn"
   },
   "outputs": [],
   "source": [
    "def accuracy(loader, model):\n",
    "  crt = 0\n",
    "  T = 0\n",
    "  model.eval()\n",
    "  with torch.no_grad():\n",
    "    for data in loader:\n",
    "      inputs, labels = data\n",
    "      inputs, labels = inputs.to(device), labels.to(device)\n",
    "      outputs = model(inputs)\n",
    "      _, predicted = torch.max(outputs.data, 1)\n",
    "      T = T + labels.size(0)\n",
    "      crt = crt + (predicted == labels).sum().item()\n",
    "      acc = 100 * crt / T\n",
    "  return acc"
   ]
  },
  {
   "cell_type": "code",
   "execution_count": null,
   "metadata": {
    "id": "3mnLdkeqi1De"
   },
   "outputs": [],
   "source": [
    "def train_cnn(model, train_loader, val_loader, optimizer, loss_func, epoch, device):\n",
    "  model.to(device)\n",
    "  for epoch_n in range(epoch):\n",
    "    current_loss = 0.0\n",
    "    for i, data in enumerate(train_loader, 0):\n",
    "      inputs, labels = data\n",
    "      inputs, labels = inputs.to(device), labels.to(device)\n",
    "\n",
    "      optimizer.zero_grad()\n",
    "\n",
    "      outputs = model(inputs)\n",
    "      loss = loss_func(outputs, labels)\n",
    "      loss.backward()\n",
    "      optimizer.step()\n",
    "\n",
    "      current_loss = current_loss + loss.item()\n",
    "\n",
    "      if i % 100 == 99:\n",
    "        print(f\"Epoch {epoch_n + 1}    Batch{i + 1}    Loss {current_loss / 100 : .3f}\")\n",
    "        current_loss = 0.0\n",
    "\n",
    "    training_accuracy = accuracy(train_loader, model)\n",
    "    print(f\"Training Accuracy for the epoch {epoch_n + 1}: {training_accuracy: .2f}%\")\n",
    "\n",
    "    validation_accuracy = accuracy(val_loader, model)\n",
    "    print(f\"Validation Accuracy for the epoch {epoch_n + 1}: {validation_accuracy: .2f}%\")\n",
    "\n",
    "\n",
    "  print(\"This model is Trained!\")"
   ]
  },
  {
   "cell_type": "code",
   "execution_count": null,
   "metadata": {
    "colab": {
     "base_uri": "https://localhost:8080/"
    },
    "id": "P9l3fg6gmVeT",
    "outputId": "0164033f-a169-4479-ff4d-43f84c671217"
   },
   "outputs": [
    {
     "name": "stdout",
     "output_type": "stream",
     "text": [
      "Epoch 1    Batch100    Loss  2.296\n",
      "Epoch 1    Batch200    Loss  2.239\n",
      "Epoch 1    Batch300    Loss  2.128\n",
      "Epoch 1    Batch400    Loss  1.980\n",
      "Epoch 1    Batch500    Loss  1.859\n",
      "Epoch 1    Batch600    Loss  1.799\n",
      "Epoch 1    Batch700    Loss  1.712\n",
      "Epoch 1    Batch800    Loss  1.693\n",
      "Epoch 1    Batch900    Loss  1.629\n",
      "Epoch 1    Batch1000    Loss  1.598\n",
      "Epoch 1    Batch1100    Loss  1.601\n",
      "Epoch 1    Batch1200    Loss  1.560\n",
      "Epoch 1    Batch1300    Loss  1.519\n",
      "Epoch 1    Batch1400    Loss  1.548\n",
      "Epoch 1    Batch1500    Loss  1.440\n",
      "Epoch 1    Batch1600    Loss  1.509\n",
      "Epoch 1    Batch1700    Loss  1.412\n",
      "Epoch 1    Batch1800    Loss  1.438\n",
      "Epoch 1    Batch1900    Loss  1.410\n",
      "Epoch 1    Batch2000    Loss  1.378\n",
      "Epoch 1    Batch2100    Loss  1.399\n",
      "Epoch 1    Batch2200    Loss  1.419\n",
      "Epoch 1    Batch2300    Loss  1.366\n",
      "Epoch 1    Batch2400    Loss  1.402\n",
      "Epoch 1    Batch2500    Loss  1.294\n",
      "Epoch 1    Batch2600    Loss  1.316\n",
      "Epoch 1    Batch2700    Loss  1.301\n",
      "Epoch 1    Batch2800    Loss  1.254\n",
      "Training Accuracy for the epoch 1:  57.19%\n",
      "Validation Accuracy for the epoch 1:  55.44%\n",
      "Epoch 2    Batch100    Loss  1.254\n",
      "Epoch 2    Batch200    Loss  1.273\n",
      "Epoch 2    Batch300    Loss  1.220\n",
      "Epoch 2    Batch400    Loss  1.235\n",
      "Epoch 2    Batch500    Loss  1.224\n",
      "Epoch 2    Batch600    Loss  1.203\n",
      "Epoch 2    Batch700    Loss  1.196\n",
      "Epoch 2    Batch800    Loss  1.186\n",
      "Epoch 2    Batch900    Loss  1.182\n",
      "Epoch 2    Batch1000    Loss  1.143\n",
      "Epoch 2    Batch1100    Loss  1.095\n",
      "Epoch 2    Batch1200    Loss  1.109\n",
      "Epoch 2    Batch1300    Loss  1.125\n",
      "Epoch 2    Batch1400    Loss  1.101\n",
      "Epoch 2    Batch1500    Loss  1.092\n",
      "Epoch 2    Batch1600    Loss  1.058\n",
      "Epoch 2    Batch1700    Loss  1.088\n",
      "Epoch 2    Batch1800    Loss  1.093\n",
      "Epoch 2    Batch1900    Loss  1.057\n",
      "Epoch 2    Batch2000    Loss  1.073\n",
      "Epoch 2    Batch2100    Loss  1.080\n",
      "Epoch 2    Batch2200    Loss  1.073\n",
      "Epoch 2    Batch2300    Loss  1.058\n",
      "Epoch 2    Batch2400    Loss  1.005\n",
      "Epoch 2    Batch2500    Loss  1.017\n",
      "Epoch 2    Batch2600    Loss  1.013\n",
      "Epoch 2    Batch2700    Loss  0.997\n",
      "Epoch 2    Batch2800    Loss  1.063\n",
      "Training Accuracy for the epoch 2:  64.47%\n",
      "Validation Accuracy for the epoch 2:  61.36%\n",
      "Epoch 3    Batch100    Loss  0.951\n",
      "Epoch 3    Batch200    Loss  0.910\n",
      "Epoch 3    Batch300    Loss  0.997\n",
      "Epoch 3    Batch400    Loss  0.984\n",
      "Epoch 3    Batch500    Loss  0.961\n",
      "Epoch 3    Batch600    Loss  0.902\n",
      "Epoch 3    Batch700    Loss  0.920\n",
      "Epoch 3    Batch800    Loss  0.911\n",
      "Epoch 3    Batch900    Loss  0.897\n",
      "Epoch 3    Batch1000    Loss  0.918\n",
      "Epoch 3    Batch1100    Loss  0.975\n",
      "Epoch 3    Batch1200    Loss  0.902\n",
      "Epoch 3    Batch1300    Loss  0.922\n",
      "Epoch 3    Batch1400    Loss  0.951\n",
      "Epoch 3    Batch1500    Loss  0.906\n",
      "Epoch 3    Batch1600    Loss  0.943\n",
      "Epoch 3    Batch1700    Loss  0.890\n",
      "Epoch 3    Batch1800    Loss  0.927\n",
      "Epoch 3    Batch1900    Loss  0.903\n",
      "Epoch 3    Batch2000    Loss  0.883\n",
      "Epoch 3    Batch2100    Loss  0.916\n",
      "Epoch 3    Batch2200    Loss  0.914\n",
      "Epoch 3    Batch2300    Loss  0.874\n",
      "Epoch 3    Batch2400    Loss  0.932\n",
      "Epoch 3    Batch2500    Loss  0.897\n",
      "Epoch 3    Batch2600    Loss  0.858\n",
      "Epoch 3    Batch2700    Loss  0.859\n",
      "Epoch 3    Batch2800    Loss  0.888\n",
      "Training Accuracy for the epoch 3:  73.03%\n",
      "Validation Accuracy for the epoch 3:  69.00%\n",
      "Epoch 4    Batch100    Loss  0.782\n",
      "Epoch 4    Batch200    Loss  0.771\n",
      "Epoch 4    Batch300    Loss  0.774\n",
      "Epoch 4    Batch400    Loss  0.818\n",
      "Epoch 4    Batch500    Loss  0.791\n",
      "Epoch 4    Batch600    Loss  0.819\n",
      "Epoch 4    Batch700    Loss  0.774\n",
      "Epoch 4    Batch800    Loss  0.792\n",
      "Epoch 4    Batch900    Loss  0.743\n",
      "Epoch 4    Batch1000    Loss  0.807\n",
      "Epoch 4    Batch1100    Loss  0.795\n",
      "Epoch 4    Batch1200    Loss  0.781\n",
      "Epoch 4    Batch1300    Loss  0.748\n",
      "Epoch 4    Batch1400    Loss  0.800\n",
      "Epoch 4    Batch1500    Loss  0.766\n",
      "Epoch 4    Batch1600    Loss  0.767\n",
      "Epoch 4    Batch1700    Loss  0.796\n",
      "Epoch 4    Batch1800    Loss  0.776\n",
      "Epoch 4    Batch1900    Loss  0.777\n",
      "Epoch 4    Batch2000    Loss  0.799\n",
      "Epoch 4    Batch2100    Loss  0.727\n",
      "Epoch 4    Batch2200    Loss  0.756\n",
      "Epoch 4    Batch2300    Loss  0.796\n",
      "Epoch 4    Batch2400    Loss  0.765\n",
      "Epoch 4    Batch2500    Loss  0.804\n",
      "Epoch 4    Batch2600    Loss  0.759\n",
      "Epoch 4    Batch2700    Loss  0.753\n",
      "Epoch 4    Batch2800    Loss  0.792\n",
      "Training Accuracy for the epoch 4:  76.26%\n",
      "Validation Accuracy for the epoch 4:  69.38%\n",
      "Epoch 5    Batch100    Loss  0.677\n",
      "Epoch 5    Batch200    Loss  0.614\n",
      "Epoch 5    Batch300    Loss  0.677\n",
      "Epoch 5    Batch400    Loss  0.657\n",
      "Epoch 5    Batch500    Loss  0.699\n",
      "Epoch 5    Batch600    Loss  0.678\n",
      "Epoch 5    Batch700    Loss  0.672\n",
      "Epoch 5    Batch800    Loss  0.639\n",
      "Epoch 5    Batch900    Loss  0.630\n",
      "Epoch 5    Batch1000    Loss  0.666\n",
      "Epoch 5    Batch1100    Loss  0.712\n",
      "Epoch 5    Batch1200    Loss  0.660\n",
      "Epoch 5    Batch1300    Loss  0.673\n",
      "Epoch 5    Batch1400    Loss  0.666\n",
      "Epoch 5    Batch1500    Loss  0.646\n",
      "Epoch 5    Batch1600    Loss  0.611\n",
      "Epoch 5    Batch1700    Loss  0.645\n",
      "Epoch 5    Batch1800    Loss  0.701\n",
      "Epoch 5    Batch1900    Loss  0.619\n",
      "Epoch 5    Batch2000    Loss  0.685\n",
      "Epoch 5    Batch2100    Loss  0.674\n",
      "Epoch 5    Batch2200    Loss  0.704\n",
      "Epoch 5    Batch2300    Loss  0.693\n",
      "Epoch 5    Batch2400    Loss  0.667\n",
      "Epoch 5    Batch2500    Loss  0.712\n",
      "Epoch 5    Batch2600    Loss  0.706\n",
      "Epoch 5    Batch2700    Loss  0.752\n",
      "Epoch 5    Batch2800    Loss  0.626\n",
      "Training Accuracy for the epoch 5:  79.90%\n",
      "Validation Accuracy for the epoch 5:  71.22%\n",
      "Epoch 6    Batch100    Loss  0.516\n",
      "Epoch 6    Batch200    Loss  0.570\n",
      "Epoch 6    Batch300    Loss  0.555\n",
      "Epoch 6    Batch400    Loss  0.505\n",
      "Epoch 6    Batch500    Loss  0.567\n",
      "Epoch 6    Batch600    Loss  0.582\n",
      "Epoch 6    Batch700    Loss  0.545\n",
      "Epoch 6    Batch800    Loss  0.587\n",
      "Epoch 6    Batch900    Loss  0.536\n",
      "Epoch 6    Batch1000    Loss  0.612\n",
      "Epoch 6    Batch1100    Loss  0.600\n",
      "Epoch 6    Batch1200    Loss  0.595\n",
      "Epoch 6    Batch1300    Loss  0.538\n",
      "Epoch 6    Batch1400    Loss  0.563\n",
      "Epoch 6    Batch1500    Loss  0.571\n",
      "Epoch 6    Batch1600    Loss  0.620\n",
      "Epoch 6    Batch1700    Loss  0.594\n",
      "Epoch 6    Batch1800    Loss  0.581\n",
      "Epoch 6    Batch1900    Loss  0.596\n",
      "Epoch 6    Batch2000    Loss  0.565\n",
      "Epoch 6    Batch2100    Loss  0.605\n",
      "Epoch 6    Batch2200    Loss  0.594\n",
      "Epoch 6    Batch2300    Loss  0.569\n",
      "Epoch 6    Batch2400    Loss  0.613\n",
      "Epoch 6    Batch2500    Loss  0.605\n",
      "Epoch 6    Batch2600    Loss  0.580\n",
      "Epoch 6    Batch2700    Loss  0.605\n",
      "Epoch 6    Batch2800    Loss  0.571\n",
      "Training Accuracy for the epoch 6:  82.32%\n",
      "Validation Accuracy for the epoch 6:  71.24%\n",
      "Epoch 7    Batch100    Loss  0.424\n",
      "Epoch 7    Batch200    Loss  0.451\n",
      "Epoch 7    Batch300    Loss  0.456\n",
      "Epoch 7    Batch400    Loss  0.480\n",
      "Epoch 7    Batch500    Loss  0.450\n",
      "Epoch 7    Batch600    Loss  0.393\n",
      "Epoch 7    Batch700    Loss  0.488\n",
      "Epoch 7    Batch800    Loss  0.485\n",
      "Epoch 7    Batch900    Loss  0.448\n",
      "Epoch 7    Batch1000    Loss  0.474\n",
      "Epoch 7    Batch1100    Loss  0.485\n",
      "Epoch 7    Batch1200    Loss  0.502\n",
      "Epoch 7    Batch1300    Loss  0.505\n",
      "Epoch 7    Batch1400    Loss  0.507\n",
      "Epoch 7    Batch1500    Loss  0.466\n",
      "Epoch 7    Batch1600    Loss  0.532\n",
      "Epoch 7    Batch1700    Loss  0.469\n",
      "Epoch 7    Batch1800    Loss  0.479\n",
      "Epoch 7    Batch1900    Loss  0.499\n",
      "Epoch 7    Batch2000    Loss  0.560\n",
      "Epoch 7    Batch2100    Loss  0.464\n",
      "Epoch 7    Batch2200    Loss  0.537\n",
      "Epoch 7    Batch2300    Loss  0.555\n",
      "Epoch 7    Batch2400    Loss  0.513\n",
      "Epoch 7    Batch2500    Loss  0.520\n",
      "Epoch 7    Batch2600    Loss  0.493\n",
      "Epoch 7    Batch2700    Loss  0.532\n",
      "Epoch 7    Batch2800    Loss  0.540\n",
      "Training Accuracy for the epoch 7:  87.54%\n",
      "Validation Accuracy for the epoch 7:  72.72%\n",
      "Epoch 8    Batch100    Loss  0.331\n",
      "Epoch 8    Batch200    Loss  0.360\n",
      "Epoch 8    Batch300    Loss  0.393\n",
      "Epoch 8    Batch400    Loss  0.390\n",
      "Epoch 8    Batch500    Loss  0.387\n",
      "Epoch 8    Batch600    Loss  0.386\n",
      "Epoch 8    Batch700    Loss  0.376\n",
      "Epoch 8    Batch800    Loss  0.441\n",
      "Epoch 8    Batch900    Loss  0.393\n",
      "Epoch 8    Batch1000    Loss  0.385\n",
      "Epoch 8    Batch1100    Loss  0.395\n",
      "Epoch 8    Batch1200    Loss  0.372\n",
      "Epoch 8    Batch1300    Loss  0.405\n",
      "Epoch 8    Batch1400    Loss  0.450\n",
      "Epoch 8    Batch1500    Loss  0.399\n",
      "Epoch 8    Batch1600    Loss  0.462\n",
      "Epoch 8    Batch1700    Loss  0.452\n",
      "Epoch 8    Batch1800    Loss  0.417\n",
      "Epoch 8    Batch1900    Loss  0.396\n",
      "Epoch 8    Batch2000    Loss  0.399\n",
      "Epoch 8    Batch2100    Loss  0.406\n",
      "Epoch 8    Batch2200    Loss  0.441\n",
      "Epoch 8    Batch2300    Loss  0.472\n",
      "Epoch 8    Batch2400    Loss  0.405\n",
      "Epoch 8    Batch2500    Loss  0.456\n",
      "Epoch 8    Batch2600    Loss  0.421\n",
      "Epoch 8    Batch2700    Loss  0.452\n",
      "Epoch 8    Batch2800    Loss  0.432\n",
      "Training Accuracy for the epoch 8:  90.33%\n",
      "Validation Accuracy for the epoch 8:  72.94%\n",
      "Epoch 9    Batch100    Loss  0.267\n",
      "Epoch 9    Batch200    Loss  0.296\n",
      "Epoch 9    Batch300    Loss  0.284\n",
      "Epoch 9    Batch400    Loss  0.347\n",
      "Epoch 9    Batch500    Loss  0.294\n",
      "Epoch 9    Batch600    Loss  0.306\n",
      "Epoch 9    Batch700    Loss  0.318\n",
      "Epoch 9    Batch800    Loss  0.319\n",
      "Epoch 9    Batch900    Loss  0.338\n",
      "Epoch 9    Batch1000    Loss  0.357\n",
      "Epoch 9    Batch1100    Loss  0.337\n",
      "Epoch 9    Batch1200    Loss  0.310\n",
      "Epoch 9    Batch1300    Loss  0.343\n",
      "Epoch 9    Batch1400    Loss  0.358\n",
      "Epoch 9    Batch1500    Loss  0.359\n",
      "Epoch 9    Batch1600    Loss  0.354\n",
      "Epoch 9    Batch1700    Loss  0.353\n",
      "Epoch 9    Batch1800    Loss  0.332\n",
      "Epoch 9    Batch1900    Loss  0.401\n",
      "Epoch 9    Batch2000    Loss  0.364\n",
      "Epoch 9    Batch2100    Loss  0.348\n",
      "Epoch 9    Batch2200    Loss  0.331\n",
      "Epoch 9    Batch2300    Loss  0.417\n",
      "Epoch 9    Batch2400    Loss  0.328\n",
      "Epoch 9    Batch2500    Loss  0.363\n",
      "Epoch 9    Batch2600    Loss  0.373\n",
      "Epoch 9    Batch2700    Loss  0.361\n",
      "Epoch 9    Batch2800    Loss  0.386\n",
      "Training Accuracy for the epoch 9:  92.43%\n",
      "Validation Accuracy for the epoch 9:  72.98%\n",
      "Epoch 10    Batch100    Loss  0.204\n",
      "Epoch 10    Batch200    Loss  0.199\n",
      "Epoch 10    Batch300    Loss  0.186\n",
      "Epoch 10    Batch400    Loss  0.255\n",
      "Epoch 10    Batch500    Loss  0.218\n",
      "Epoch 10    Batch600    Loss  0.237\n",
      "Epoch 10    Batch700    Loss  0.266\n",
      "Epoch 10    Batch800    Loss  0.269\n",
      "Epoch 10    Batch900    Loss  0.234\n",
      "Epoch 10    Batch1000    Loss  0.264\n",
      "Epoch 10    Batch1100    Loss  0.277\n",
      "Epoch 10    Batch1200    Loss  0.223\n",
      "Epoch 10    Batch1300    Loss  0.280\n",
      "Epoch 10    Batch1400    Loss  0.268\n",
      "Epoch 10    Batch1500    Loss  0.298\n",
      "Epoch 10    Batch1600    Loss  0.291\n",
      "Epoch 10    Batch1700    Loss  0.301\n",
      "Epoch 10    Batch1800    Loss  0.306\n",
      "Epoch 10    Batch1900    Loss  0.282\n",
      "Epoch 10    Batch2000    Loss  0.313\n",
      "Epoch 10    Batch2100    Loss  0.381\n",
      "Epoch 10    Batch2200    Loss  0.346\n",
      "Epoch 10    Batch2300    Loss  0.304\n",
      "Epoch 10    Batch2400    Loss  0.289\n",
      "Epoch 10    Batch2500    Loss  0.348\n",
      "Epoch 10    Batch2600    Loss  0.340\n",
      "Epoch 10    Batch2700    Loss  0.324\n",
      "Epoch 10    Batch2800    Loss  0.319\n",
      "Training Accuracy for the epoch 10:  92.86%\n",
      "Validation Accuracy for the epoch 10:  71.74%\n",
      "This model is Trained!\n"
     ]
    }
   ],
   "source": [
    "Cnn = Cnn_Model_1()\n",
    "\n",
    "loss_func = nn.CrossEntropyLoss()\n",
    "optimizer = optim.SGD(Cnn.parameters(), lr = 0.001, momentum=0.9)\n",
    "epoch = 10\n",
    "\n",
    "train_cnn(Cnn, trainloader, valloader, optimizer, loss_func, epoch, device=device)"
   ]
  },
  {
   "cell_type": "code",
   "execution_count": null,
   "metadata": {
    "colab": {
     "base_uri": "https://localhost:8080/"
    },
    "id": "bW12X8U_m9qT",
    "outputId": "4202f6dc-6a1b-433a-d30a-a3017a601b3e"
   },
   "outputs": [
    {
     "name": "stdout",
     "output_type": "stream",
     "text": [
      "Epoch 1    Batch100    Loss  2.110\n",
      "Epoch 1    Batch200    Loss  1.900\n",
      "Epoch 1    Batch300    Loss  1.786\n",
      "Epoch 1    Batch400    Loss  1.733\n",
      "Epoch 1    Batch500    Loss  1.722\n",
      "Epoch 1    Batch600    Loss  1.641\n",
      "Epoch 1    Batch700    Loss  1.578\n",
      "Epoch 1    Batch800    Loss  1.616\n",
      "Epoch 1    Batch900    Loss  1.556\n",
      "Epoch 1    Batch1000    Loss  1.532\n",
      "Epoch 1    Batch1100    Loss  1.511\n",
      "Epoch 1    Batch1200    Loss  1.435\n",
      "Epoch 1    Batch1300    Loss  1.515\n",
      "Epoch 1    Batch1400    Loss  1.407\n",
      "Epoch 1    Batch1500    Loss  1.417\n",
      "Epoch 1    Batch1600    Loss  1.391\n",
      "Epoch 1    Batch1700    Loss  1.365\n",
      "Epoch 1    Batch1800    Loss  1.407\n",
      "Epoch 1    Batch1900    Loss  1.374\n",
      "Epoch 1    Batch2000    Loss  1.308\n",
      "Epoch 1    Batch2100    Loss  1.305\n",
      "Epoch 1    Batch2200    Loss  1.295\n",
      "Epoch 1    Batch2300    Loss  1.272\n",
      "Epoch 1    Batch2400    Loss  1.329\n",
      "Epoch 1    Batch2500    Loss  1.247\n",
      "Epoch 1    Batch2600    Loss  1.233\n",
      "Epoch 1    Batch2700    Loss  1.261\n",
      "Epoch 1    Batch2800    Loss  1.242\n",
      "Training Accuracy for the epoch 1:  61.21%\n",
      "Validation Accuracy for the epoch 1:  59.06%\n",
      "Epoch 2    Batch100    Loss  1.135\n",
      "Epoch 2    Batch200    Loss  1.149\n",
      "Epoch 2    Batch300    Loss  1.114\n",
      "Epoch 2    Batch400    Loss  1.079\n",
      "Epoch 2    Batch500    Loss  1.027\n",
      "Epoch 2    Batch600    Loss  1.049\n",
      "Epoch 2    Batch700    Loss  1.026\n",
      "Epoch 2    Batch800    Loss  1.084\n",
      "Epoch 2    Batch900    Loss  1.036\n",
      "Epoch 2    Batch1000    Loss  1.015\n",
      "Epoch 2    Batch1100    Loss  1.064\n",
      "Epoch 2    Batch1200    Loss  1.032\n",
      "Epoch 2    Batch1300    Loss  0.969\n",
      "Epoch 2    Batch1400    Loss  0.948\n",
      "Epoch 2    Batch1500    Loss  1.009\n",
      "Epoch 2    Batch1600    Loss  0.984\n",
      "Epoch 2    Batch1700    Loss  0.985\n",
      "Epoch 2    Batch1800    Loss  0.957\n",
      "Epoch 2    Batch1900    Loss  0.960\n",
      "Epoch 2    Batch2000    Loss  0.921\n",
      "Epoch 2    Batch2100    Loss  0.915\n",
      "Epoch 2    Batch2200    Loss  0.890\n",
      "Epoch 2    Batch2300    Loss  0.950\n",
      "Epoch 2    Batch2400    Loss  0.960\n",
      "Epoch 2    Batch2500    Loss  0.953\n",
      "Epoch 2    Batch2600    Loss  0.897\n",
      "Epoch 2    Batch2700    Loss  0.879\n",
      "Epoch 2    Batch2800    Loss  0.889\n",
      "Training Accuracy for the epoch 2:  72.72%\n",
      "Validation Accuracy for the epoch 2:  67.32%\n",
      "Epoch 3    Batch100    Loss  0.808\n",
      "Epoch 3    Batch200    Loss  0.807\n",
      "Epoch 3    Batch300    Loss  0.775\n",
      "Epoch 3    Batch400    Loss  0.792\n",
      "Epoch 3    Batch500    Loss  0.771\n",
      "Epoch 3    Batch600    Loss  0.821\n",
      "Epoch 3    Batch700    Loss  0.795\n",
      "Epoch 3    Batch800    Loss  0.799\n",
      "Epoch 3    Batch900    Loss  0.785\n",
      "Epoch 3    Batch1000    Loss  0.759\n",
      "Epoch 3    Batch1100    Loss  0.764\n",
      "Epoch 3    Batch1200    Loss  0.818\n",
      "Epoch 3    Batch1300    Loss  0.807\n",
      "Epoch 3    Batch1400    Loss  0.805\n",
      "Epoch 3    Batch1500    Loss  0.831\n",
      "Epoch 3    Batch1600    Loss  0.781\n",
      "Epoch 3    Batch1700    Loss  0.750\n",
      "Epoch 3    Batch1800    Loss  0.741\n",
      "Epoch 3    Batch1900    Loss  0.793\n",
      "Epoch 3    Batch2000    Loss  0.754\n",
      "Epoch 3    Batch2100    Loss  0.773\n",
      "Epoch 3    Batch2200    Loss  0.777\n",
      "Epoch 3    Batch2300    Loss  0.754\n",
      "Epoch 3    Batch2400    Loss  0.773\n",
      "Epoch 3    Batch2500    Loss  0.750\n",
      "Epoch 3    Batch2600    Loss  0.775\n",
      "Epoch 3    Batch2700    Loss  0.776\n",
      "Epoch 3    Batch2800    Loss  0.731\n",
      "Training Accuracy for the epoch 3:  79.65%\n",
      "Validation Accuracy for the epoch 3:  72.68%\n",
      "Epoch 4    Batch100    Loss  0.594\n",
      "Epoch 4    Batch200    Loss  0.579\n",
      "Epoch 4    Batch300    Loss  0.635\n",
      "Epoch 4    Batch400    Loss  0.635\n",
      "Epoch 4    Batch500    Loss  0.655\n",
      "Epoch 4    Batch600    Loss  0.634\n",
      "Epoch 4    Batch700    Loss  0.612\n",
      "Epoch 4    Batch800    Loss  0.604\n",
      "Epoch 4    Batch900    Loss  0.697\n",
      "Epoch 4    Batch1000    Loss  0.634\n",
      "Epoch 4    Batch1100    Loss  0.646\n",
      "Epoch 4    Batch1200    Loss  0.639\n",
      "Epoch 4    Batch1300    Loss  0.615\n",
      "Epoch 4    Batch1400    Loss  0.620\n",
      "Epoch 4    Batch1500    Loss  0.663\n",
      "Epoch 4    Batch1600    Loss  0.634\n",
      "Epoch 4    Batch1700    Loss  0.631\n",
      "Epoch 4    Batch1800    Loss  0.634\n",
      "Epoch 4    Batch1900    Loss  0.605\n",
      "Epoch 4    Batch2000    Loss  0.616\n",
      "Epoch 4    Batch2100    Loss  0.640\n",
      "Epoch 4    Batch2200    Loss  0.589\n",
      "Epoch 4    Batch2300    Loss  0.620\n",
      "Epoch 4    Batch2400    Loss  0.574\n",
      "Epoch 4    Batch2500    Loss  0.623\n",
      "Epoch 4    Batch2600    Loss  0.675\n",
      "Epoch 4    Batch2700    Loss  0.653\n",
      "Epoch 4    Batch2800    Loss  0.625\n",
      "Training Accuracy for the epoch 4:  80.10%\n",
      "Validation Accuracy for the epoch 4:  71.44%\n",
      "Epoch 5    Batch100    Loss  0.445\n",
      "Epoch 5    Batch200    Loss  0.484\n",
      "Epoch 5    Batch300    Loss  0.497\n",
      "Epoch 5    Batch400    Loss  0.473\n",
      "Epoch 5    Batch500    Loss  0.454\n",
      "Epoch 5    Batch600    Loss  0.492\n",
      "Epoch 5    Batch700    Loss  0.495\n",
      "Epoch 5    Batch800    Loss  0.531\n",
      "Epoch 5    Batch900    Loss  0.471\n",
      "Epoch 5    Batch1000    Loss  0.557\n",
      "Epoch 5    Batch1100    Loss  0.506\n",
      "Epoch 5    Batch1200    Loss  0.559\n",
      "Epoch 5    Batch1300    Loss  0.514\n",
      "Epoch 5    Batch1400    Loss  0.514\n",
      "Epoch 5    Batch1500    Loss  0.529\n",
      "Epoch 5    Batch1600    Loss  0.526\n",
      "Epoch 5    Batch1700    Loss  0.489\n",
      "Epoch 5    Batch1800    Loss  0.502\n",
      "Epoch 5    Batch1900    Loss  0.497\n",
      "Epoch 5    Batch2000    Loss  0.517\n",
      "Epoch 5    Batch2100    Loss  0.527\n",
      "Epoch 5    Batch2200    Loss  0.528\n",
      "Epoch 5    Batch2300    Loss  0.522\n",
      "Epoch 5    Batch2400    Loss  0.505\n",
      "Epoch 5    Batch2500    Loss  0.514\n",
      "Epoch 5    Batch2600    Loss  0.538\n",
      "Epoch 5    Batch2700    Loss  0.510\n",
      "Epoch 5    Batch2800    Loss  0.539\n",
      "Training Accuracy for the epoch 5:  87.52%\n",
      "Validation Accuracy for the epoch 5:  75.14%\n",
      "Epoch 6    Batch100    Loss  0.362\n",
      "Epoch 6    Batch200    Loss  0.374\n",
      "Epoch 6    Batch300    Loss  0.371\n",
      "Epoch 6    Batch400    Loss  0.377\n",
      "Epoch 6    Batch500    Loss  0.378\n",
      "Epoch 6    Batch600    Loss  0.371\n",
      "Epoch 6    Batch700    Loss  0.357\n",
      "Epoch 6    Batch800    Loss  0.394\n",
      "Epoch 6    Batch900    Loss  0.389\n",
      "Epoch 6    Batch1000    Loss  0.389\n",
      "Epoch 6    Batch1100    Loss  0.375\n",
      "Epoch 6    Batch1200    Loss  0.389\n",
      "Epoch 6    Batch1300    Loss  0.409\n",
      "Epoch 6    Batch1400    Loss  0.452\n",
      "Epoch 6    Batch1500    Loss  0.413\n",
      "Epoch 6    Batch1600    Loss  0.414\n",
      "Epoch 6    Batch1700    Loss  0.397\n",
      "Epoch 6    Batch1800    Loss  0.451\n",
      "Epoch 6    Batch1900    Loss  0.366\n",
      "Epoch 6    Batch2000    Loss  0.438\n",
      "Epoch 6    Batch2100    Loss  0.413\n",
      "Epoch 6    Batch2200    Loss  0.385\n",
      "Epoch 6    Batch2300    Loss  0.444\n",
      "Epoch 6    Batch2400    Loss  0.461\n",
      "Epoch 6    Batch2500    Loss  0.492\n",
      "Epoch 6    Batch2600    Loss  0.443\n",
      "Epoch 6    Batch2700    Loss  0.422\n",
      "Epoch 6    Batch2800    Loss  0.386\n",
      "Training Accuracy for the epoch 6:  88.86%\n",
      "Validation Accuracy for the epoch 6:  74.12%\n",
      "Epoch 7    Batch100    Loss  0.280\n",
      "Epoch 7    Batch200    Loss  0.250\n",
      "Epoch 7    Batch300    Loss  0.300\n",
      "Epoch 7    Batch400    Loss  0.297\n",
      "Epoch 7    Batch500    Loss  0.280\n",
      "Epoch 7    Batch600    Loss  0.301\n",
      "Epoch 7    Batch700    Loss  0.321\n",
      "Epoch 7    Batch800    Loss  0.336\n",
      "Epoch 7    Batch900    Loss  0.312\n",
      "Epoch 7    Batch1000    Loss  0.336\n",
      "Epoch 7    Batch1100    Loss  0.296\n",
      "Epoch 7    Batch1200    Loss  0.337\n",
      "Epoch 7    Batch1300    Loss  0.337\n",
      "Epoch 7    Batch1400    Loss  0.323\n",
      "Epoch 7    Batch1500    Loss  0.313\n",
      "Epoch 7    Batch1600    Loss  0.306\n",
      "Epoch 7    Batch1700    Loss  0.345\n",
      "Epoch 7    Batch1800    Loss  0.329\n",
      "Epoch 7    Batch1900    Loss  0.320\n",
      "Epoch 7    Batch2000    Loss  0.368\n",
      "Epoch 7    Batch2100    Loss  0.328\n",
      "Epoch 7    Batch2200    Loss  0.379\n",
      "Epoch 7    Batch2300    Loss  0.331\n",
      "Epoch 7    Batch2400    Loss  0.365\n",
      "Epoch 7    Batch2500    Loss  0.342\n",
      "Epoch 7    Batch2600    Loss  0.398\n",
      "Epoch 7    Batch2700    Loss  0.341\n",
      "Epoch 7    Batch2800    Loss  0.396\n",
      "Training Accuracy for the epoch 7:  91.52%\n",
      "Validation Accuracy for the epoch 7:  74.24%\n",
      "Epoch 8    Batch100    Loss  0.225\n",
      "Epoch 8    Batch200    Loss  0.166\n",
      "Epoch 8    Batch300    Loss  0.240\n",
      "Epoch 8    Batch400    Loss  0.223\n",
      "Epoch 8    Batch500    Loss  0.237\n",
      "Epoch 8    Batch600    Loss  0.245\n",
      "Epoch 8    Batch700    Loss  0.228\n",
      "Epoch 8    Batch800    Loss  0.244\n",
      "Epoch 8    Batch900    Loss  0.248\n",
      "Epoch 8    Batch1000    Loss  0.182\n",
      "Epoch 8    Batch1100    Loss  0.298\n",
      "Epoch 8    Batch1200    Loss  0.241\n",
      "Epoch 8    Batch1300    Loss  0.282\n",
      "Epoch 8    Batch1400    Loss  0.236\n",
      "Epoch 8    Batch1500    Loss  0.286\n",
      "Epoch 8    Batch1600    Loss  0.261\n",
      "Epoch 8    Batch1700    Loss  0.271\n",
      "Epoch 8    Batch1800    Loss  0.263\n",
      "Epoch 8    Batch1900    Loss  0.265\n",
      "Epoch 8    Batch2000    Loss  0.321\n",
      "Epoch 8    Batch2100    Loss  0.231\n",
      "Epoch 8    Batch2200    Loss  0.268\n",
      "Epoch 8    Batch2300    Loss  0.326\n",
      "Epoch 8    Batch2400    Loss  0.322\n",
      "Epoch 8    Batch2500    Loss  0.247\n",
      "Epoch 8    Batch2600    Loss  0.301\n",
      "Epoch 8    Batch2700    Loss  0.292\n",
      "Epoch 8    Batch2800    Loss  0.249\n",
      "Training Accuracy for the epoch 8:  95.27%\n",
      "Validation Accuracy for the epoch 8:  76.16%\n",
      "Epoch 9    Batch100    Loss  0.183\n",
      "Epoch 9    Batch200    Loss  0.161\n",
      "Epoch 9    Batch300    Loss  0.171\n",
      "Epoch 9    Batch400    Loss  0.208\n",
      "Epoch 9    Batch500    Loss  0.176\n",
      "Epoch 9    Batch600    Loss  0.193\n",
      "Epoch 9    Batch700    Loss  0.186\n",
      "Epoch 9    Batch800    Loss  0.229\n",
      "Epoch 9    Batch900    Loss  0.220\n",
      "Epoch 9    Batch1000    Loss  0.179\n",
      "Epoch 9    Batch1100    Loss  0.185\n",
      "Epoch 9    Batch1200    Loss  0.194\n",
      "Epoch 9    Batch1300    Loss  0.256\n",
      "Epoch 9    Batch1400    Loss  0.233\n",
      "Epoch 9    Batch1500    Loss  0.231\n",
      "Epoch 9    Batch1600    Loss  0.219\n",
      "Epoch 9    Batch1700    Loss  0.222\n",
      "Epoch 9    Batch1800    Loss  0.246\n",
      "Epoch 9    Batch1900    Loss  0.191\n",
      "Epoch 9    Batch2000    Loss  0.209\n",
      "Epoch 9    Batch2100    Loss  0.250\n",
      "Epoch 9    Batch2200    Loss  0.272\n",
      "Epoch 9    Batch2300    Loss  0.218\n",
      "Epoch 9    Batch2400    Loss  0.275\n",
      "Epoch 9    Batch2500    Loss  0.217\n",
      "Epoch 9    Batch2600    Loss  0.196\n",
      "Epoch 9    Batch2700    Loss  0.310\n",
      "Epoch 9    Batch2800    Loss  0.246\n",
      "Training Accuracy for the epoch 9:  95.87%\n",
      "Validation Accuracy for the epoch 9:  75.74%\n",
      "Epoch 10    Batch100    Loss  0.126\n",
      "Epoch 10    Batch200    Loss  0.109\n",
      "Epoch 10    Batch300    Loss  0.140\n",
      "Epoch 10    Batch400    Loss  0.146\n",
      "Epoch 10    Batch500    Loss  0.167\n",
      "Epoch 10    Batch600    Loss  0.164\n",
      "Epoch 10    Batch700    Loss  0.156\n",
      "Epoch 10    Batch800    Loss  0.207\n",
      "Epoch 10    Batch900    Loss  0.212\n",
      "Epoch 10    Batch1000    Loss  0.170\n",
      "Epoch 10    Batch1100    Loss  0.179\n",
      "Epoch 10    Batch1200    Loss  0.181\n",
      "Epoch 10    Batch1300    Loss  0.202\n",
      "Epoch 10    Batch1400    Loss  0.224\n",
      "Epoch 10    Batch1500    Loss  0.227\n",
      "Epoch 10    Batch1600    Loss  0.212\n",
      "Epoch 10    Batch1700    Loss  0.224\n",
      "Epoch 10    Batch1800    Loss  0.177\n",
      "Epoch 10    Batch1900    Loss  0.191\n",
      "Epoch 10    Batch2000    Loss  0.156\n",
      "Epoch 10    Batch2100    Loss  0.178\n",
      "Epoch 10    Batch2200    Loss  0.210\n",
      "Epoch 10    Batch2300    Loss  0.207\n",
      "Epoch 10    Batch2400    Loss  0.210\n",
      "Epoch 10    Batch2500    Loss  0.210\n",
      "Epoch 10    Batch2600    Loss  0.207\n",
      "Epoch 10    Batch2700    Loss  0.230\n",
      "Epoch 10    Batch2800    Loss  0.190\n",
      "Training Accuracy for the epoch 10:  96.44%\n",
      "Validation Accuracy for the epoch 10:  75.82%\n",
      "This model is Trained!\n"
     ]
    }
   ],
   "source": [
    "Cnn_2 = Cnn_Model_2()\n",
    "\n",
    "loss_func_2 = nn.CrossEntropyLoss()\n",
    "optimizer_2 = optim.Adam(Cnn_2.parameters(), lr = 0.001)\n",
    "epoch = 10\n",
    "\n",
    "train_cnn(Cnn_2, trainloader, valloader, optimizer_2, loss_func_2, epoch, device=device)"
   ]
  },
  {
   "cell_type": "code",
   "execution_count": null,
   "metadata": {
    "id": "dgi7Z_z1nW7Q"
   },
   "outputs": [],
   "source": [
    "def test_cnn(model, test_loader, loss_func, device):\n",
    "  model.eval()\n",
    "  test_loss = 0.0\n",
    "  class_correct = [0.0] * 10\n",
    "  class_total = [0.0] * 10\n",
    "\n",
    "  with torch.no_grad():\n",
    "    for data, target in test_loader:\n",
    "      data, target = data.to(device), target.to(device)\n",
    "      output = model(data)\n",
    "      loss = loss_func(output, target)\n",
    "      test_loss = test_loss + loss.item() * data.size(0)\n",
    "      _, pred = torch.max(output, 1)\n",
    "      correct_tensor = pred.eq(target.data.view_as(pred))\n",
    "      correct = correct_tensor.cpu().numpy() if device.type == 'cuda' else correct_tensor.numpy()\n",
    "\n",
    "      for i in range(target.size(0)):\n",
    "        label = target.data[i].item()\n",
    "        class_correct[label] = class_correct[label] + correct[i].item()\n",
    "        class_total[label] = class_total[label] + 1\n",
    "\n",
    "  test_loss = test_loss/len(test_loader.dataset)\n",
    "  print(\"Test loss value: {:.5f}\\n\".format(test_loss))\n",
    "\n",
    "  for i in range(10):\n",
    "    if class_total[i] > 0:\n",
    "      print('Test Accuracy of %5s: %2d%% (%2d/%2d)' % (\n",
    "                classes[i], 100 * class_correct[i] / class_total[i],\n",
    "                class_correct[i], class_total[i]))\n",
    "    else:\n",
    "      print(\"Test Accuracy of %5s: not found\" % (classes[i]))\n",
    "\n",
    "  return test_loss, class_correct, class_total\n"
   ]
  },
  {
   "cell_type": "code",
   "execution_count": null,
   "metadata": {
    "colab": {
     "base_uri": "https://localhost:8080/"
    },
    "id": "IY9qA3p1pjlK",
    "outputId": "da6b2937-2493-4fd7-d5c9-b0c88a91254e"
   },
   "outputs": [
    {
     "name": "stdout",
     "output_type": "stream",
     "text": [
      "Test loss value: 1.01782\n",
      "\n",
      "Test Accuracy of plane: 77% (778/1000)\n",
      "Test Accuracy of   car: 86% (865/1000)\n",
      "Test Accuracy of  bird: 71% (710/1000)\n",
      "Test Accuracy of   cat: 55% (553/1000)\n",
      "Test Accuracy of  deer: 56% (567/1000)\n",
      "Test Accuracy of   dog: 64% (645/1000)\n",
      "Test Accuracy of  frog: 77% (775/1000)\n",
      "Test Accuracy of horse: 77% (776/1000)\n",
      "Test Accuracy of  ship: 70% (700/1000)\n",
      "Test Accuracy of truck: 72% (726/1000)\n",
      "Test loss value: 0.98692\n",
      "\n",
      "Test Accuracy of plane: 80% (809/1000)\n",
      "Test Accuracy of   car: 84% (842/1000)\n",
      "Test Accuracy of  bird: 62% (626/1000)\n",
      "Test Accuracy of   cat: 59% (599/1000)\n",
      "Test Accuracy of  deer: 76% (766/1000)\n",
      "Test Accuracy of   dog: 65% (653/1000)\n",
      "Test Accuracy of  frog: 79% (792/1000)\n",
      "Test Accuracy of horse: 80% (807/1000)\n",
      "Test Accuracy of  ship: 82% (820/1000)\n",
      "Test Accuracy of truck: 86% (862/1000)\n",
      "Overall Accuracy on CNN Modal_1 is:  70.950%\n",
      "Overall Accuracy on CNN Modal_2 is:  75.760%\n"
     ]
    }
   ],
   "source": [
    "test_loss_Cnn,class_correct_Cnn,class_total_Cnn = test_cnn(Cnn, testloader, loss_func, device)\n",
    "test_loss_Cnn_2,class_correct_Cnn_2,class_total_Cnn_2 = test_cnn(Cnn_2, testloader, loss_func, device)\n",
    "\n",
    "avg_accuracy_Cnn = sum(class_correct_Cnn) / sum(class_total_Cnn) * 100\n",
    "avg_accuracy_Cnn_2 = sum(class_correct_Cnn_2) / sum(class_total_Cnn_2) * 100\n",
    "\n",
    "print(f\"Overall Accuracy on CNN Modal_1 is: {avg_accuracy_Cnn: .3f}%\")\n",
    "print(f\"Overall Accuracy on CNN Modal_2 is: {avg_accuracy_Cnn_2: .3f}%\")\n",
    "\n"
   ]
  },
  {
   "cell_type": "code",
   "execution_count": null,
   "metadata": {
    "id": "qvOwW8x-rG7U"
   },
   "outputs": [],
   "source": [
    "def imshow(img):\n",
    "  img = img / 2 + 0.5\n",
    "  npimg = img.numpy()\n",
    "  plt.imshow(np.transpose(npimg, (1,2,0)))\n"
   ]
  },
  {
   "cell_type": "code",
   "execution_count": null,
   "metadata": {
    "id": "JxBYKrZlrXFQ"
   },
   "outputs": [],
   "source": [
    "def predict_image_labels(test_loader, model):\n",
    "  dataiter = iter(test_loader)\n",
    "  images, labels = next(dataiter)\n",
    "  images = images.to(device)\n",
    "  outputs = model(images)\n",
    "  _, predicted = torch.max(outputs, 1)\n",
    "\n",
    "  return images, predicted"
   ]
  },
  {
   "cell_type": "code",
   "execution_count": null,
   "metadata": {
    "colab": {
     "base_uri": "https://localhost:8080/",
     "height": 580
    },
    "id": "a5aCCtzWrWx-",
    "outputId": "4f7e5a54-cac0-4a35-f46d-893e07afb521"
   },
   "outputs": [
    {
     "name": "stdout",
     "output_type": "stream",
     "text": [
      "Predict Labels for Model 1: [3 8 1 0 4 6 9 2 3 1 0 9 5 7 9 8 5 3 8 6 7 2 4 9 4 3 4 0 9 6 6 2 2 5 9 8 7\n",
      " 1 9 5 4 6 5 6 0 9 3 9 7 6 9 0 7 3 8 8 7 5 5 5 7 5 6 5]\n"
     ]
    },
    {
     "data": {
      "image/png": "[encoded data removed]",
      "text/plain": [
       "<Figure size 1200x800 with 5 Axes>"
      ]
     },
     "metadata": {},
     "output_type": "display_data"
    }
   ],
   "source": [
    "image = 5\n",
    "def display_predictions(images, predicted, model, image):\n",
    "  plt.figure(figsize=(12,8))\n",
    "\n",
    "  for i in range(min(image, len(images))):\n",
    "    plt.subplot(3,4,i + 1)\n",
    "    imshow(images[i].cpu())\n",
    "    plt.title(f\"{model} Predicted: {classes[predicted[i].item()]}\")\n",
    "    plt.axis('off')\n",
    "  plt.tight_layout()\n",
    "  plt.axis()\n",
    "\n",
    "\n",
    "images_cnn, predicted_cnn = predict_image_labels(testloader, Cnn)\n",
    "print(\"Predict Labels for Model 1:\", predicted_cnn.cpu().numpy())\n",
    "display_predictions(images_cnn, predicted_cnn, \"Cnn_Model_1\", image = 5)"
   ]
  },
  {
   "cell_type": "code",
   "execution_count": null,
   "metadata": {
    "colab": {
     "base_uri": "https://localhost:8080/",
     "height": 580
    },
    "id": "TIIYVKD0tl4r",
    "outputId": "8c15d588-b7ab-4522-de27-ac9c675f8443"
   },
   "outputs": [
    {
     "name": "stdout",
     "output_type": "stream",
     "text": [
      "Predict Labels for Model 2: [3 8 8 0 6 6 1 6 3 9 0 9 5 7 9 8 5 7 8 6 4 0 0 9 4 2 3 0 9 6 6 5 2 2 9 8 4\n",
      " 1 9 5 4 6 3 6 0 9 3 3 7 6 9 8 7 3 8 8 7 3 3 7 7 3 6 3]\n"
     ]
    },
    {
     "data": {
      "image/png": "[encoded data removed]",
      "text/plain": [
       "<Figure size 1200x800 with 5 Axes>"
      ]
     },
     "metadata": {},
     "output_type": "display_data"
    }
   ],
   "source": [
    "images_cnn_2, predicted_cnn_2 = predict_image_labels(testloader, Cnn_2)\n",
    "print(\"Predict Labels for Model 2:\", predicted_cnn_2.cpu().numpy())\n",
    "display_predictions(images_cnn_2, predicted_cnn_2, \"Cnn_Model_2\", image = 5)"
   ]
  },
  {
   "cell_type": "markdown",
   "metadata": {
    "id": "rA9gL33gM3QW"
   },
   "source": [
    "## Conclusion:\n",
    "\n",
    "**CNN-1:**\n",
    "This model is made using 3 layers,in which we have used a single dropout layer only after the first fully connected layer. Also we have use SGD optimizer for training the training data.\n",
    "\n",
    "**CNN-2:**In this model is alos made using 3 fully connected layers, but in this model we have applied dropout layer after both the first connected layer and second fully connected layer. For this model we have used Adam optimizer for trainning the dataset. Cnn_Model_2 contains the function named _initialize_weights to calculate output size of the convolutional layers, which is used to define the input size of the first fully connected layer which contributes in increasing the overall accuracy."
   ]
  },
  {
   "cell_type": "markdown",
   "metadata": {
    "id": "KkM0XJm0AYC7"
   },
   "source": [
    "<h6>References</h6>\n",
    "<h5>1) https://pytorch.org/tutorials/beginner/blitz/cifar10_tutorial.html</h5>\n",
    "<h5>2)https://www.pythonpool.com/convert-tensor-to-numpy-array/</h5>\n",
    "<h5>3) https://stackoverflow.com/questions/22426609/shuffle-a-numpy-array </h5>\n",
    "<h5>4) https://medium.com/@waleedmousa975/building-a-neural-network-from-scratch-using-numpy-and-math-libraries-a-step-by-step-tutorial-in-608090c20466</h5>\n",
    "<h5>5) https://rileylearning.medium.com/affine-layer-6b7163a2da65</h5>\n",
    "<h5>6) https://www.deepchecks.com/glossary/rectified-linear-unit-relu/#:~:text=ReLU%20formula%20is%20%3A%20f(x,range%20of%200%20to%20infinite.</h5>\n",
    "<h5>7) https://gurjeet333.medium.com/7-best-techniques-to-improve-the-accuracy-of-cnn-w-o-overfitting-6db06467182f</h5>\n",
    "<h5>8)https://saturncloud.io/blog/calculating-the-accuracy-of-pytorch-models-every-epoch/</h5>\n",
    "<h5>9) https://shonit2096.medium.com/cnn-on-cifar10-data-set-using-pytorch-34be87e09844</h5>"
   ]
  }
 ],
 "metadata": {
  "accelerator": "GPU",
  "colab": {
   "gpuType": "T4",
   "provenance": []
  },
  "kernelspec": {
   "display_name": "Python 3",
   "name": "python3"
  },
  "language_info": {
   "name": "python"
  }
 },
 "nbformat": 4,
 "nbformat_minor": 0
}
